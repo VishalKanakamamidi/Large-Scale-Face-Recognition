{
 "cells": [
  {
   "cell_type": "markdown",
   "metadata": {
    "colab_type": "text",
    "id": "CdNUjnr4q_xE"
   },
   "source": [
    "# Installing Necessary Libraries\n"
   ]
  },
  {
   "cell_type": "code",
   "execution_count": null,
   "metadata": {
    "colab": {
     "base_uri": "https://localhost:8080/",
     "height": 1000
    },
    "colab_type": "code",
    "executionInfo": {
     "elapsed": 26418,
     "status": "ok",
     "timestamp": 1592989384535,
     "user": {
      "displayName": "VISHAL SHIVAKUMAR KANAKAMAMIDI",
      "photoUrl": "",
      "userId": "13859938372708932231"
     },
     "user_tz": -330
    },
    "id": "FSZflU1QKwZf",
    "outputId": "4fe72ef0-8d12-4a30-ad78-c620b758cf35"
   },
   "outputs": [
    {
     "name": "stdout",
     "output_type": "stream",
     "text": [
      "Collecting faiss-gpu\n",
      "\u001b[?25l  Downloading https://files.pythonhosted.org/packages/a8/69/0e3f56024bb1423a518287673071ae512f9965d1faa6150deef5cc9e7996/faiss_gpu-1.6.3-cp36-cp36m-manylinux2010_x86_64.whl (35.5MB)\n",
      "\u001b[K     |████████████████████████████████| 35.5MB 88kB/s \n",
      "\u001b[?25hRequirement already satisfied: numpy in /usr/local/lib/python3.6/dist-packages (from faiss-gpu) (1.18.5)\n",
      "Installing collected packages: faiss-gpu\n",
      "Successfully installed faiss-gpu-1.6.3\n",
      "Collecting deepface\n",
      "  Downloading https://files.pythonhosted.org/packages/e4/87/bf0143fac47bb4ec1a35db271babfde59393f8515a54922dd4233afa8709/deepface-0.0.31-py3-none-any.whl\n",
      "Requirement already satisfied: Pillow>=5.2.0 in /usr/local/lib/python3.6/dist-packages (from deepface) (7.0.0)\n",
      "Requirement already satisfied: opencv-python>=3.4.4 in /usr/local/lib/python3.6/dist-packages (from deepface) (4.1.2.30)\n",
      "Requirement already satisfied: pandas>=0.23.4 in /usr/local/lib/python3.6/dist-packages (from deepface) (1.0.5)\n",
      "Requirement already satisfied: keras>=2.2.0 in /usr/local/lib/python3.6/dist-packages (from deepface) (2.3.1)\n",
      "Requirement already satisfied: numpy>=1.14.0 in /usr/local/lib/python3.6/dist-packages (from deepface) (1.18.5)\n",
      "Collecting gdown>=3.10.1\n",
      "  Downloading https://files.pythonhosted.org/packages/fc/7a/5a892d25b0a105b9d825cdd0c69d2742b83e00f247053f50a7e0a5405439/gdown-3.11.1.tar.gz\n",
      "  Installing build dependencies ... \u001b[?25l\u001b[?25hdone\n",
      "  Getting requirements to build wheel ... \u001b[?25l\u001b[?25hdone\n",
      "    Preparing wheel metadata ... \u001b[?25l\u001b[?25hdone\n",
      "Requirement already satisfied: Flask>=1.1.2 in /usr/local/lib/python3.6/dist-packages (from deepface) (1.1.2)\n",
      "Requirement already satisfied: tensorflow>=1.9.0 in /usr/local/lib/python3.6/dist-packages (from deepface) (2.2.0)\n",
      "Requirement already satisfied: tqdm>=4.30.0 in /usr/local/lib/python3.6/dist-packages (from deepface) (4.41.1)\n",
      "Requirement already satisfied: python-dateutil>=2.6.1 in /usr/local/lib/python3.6/dist-packages (from pandas>=0.23.4->deepface) (2.8.1)\n",
      "Requirement already satisfied: pytz>=2017.2 in /usr/local/lib/python3.6/dist-packages (from pandas>=0.23.4->deepface) (2018.9)\n",
      "Requirement already satisfied: keras-preprocessing>=1.0.5 in /usr/local/lib/python3.6/dist-packages (from keras>=2.2.0->deepface) (1.1.2)\n",
      "Requirement already satisfied: keras-applications>=1.0.6 in /usr/local/lib/python3.6/dist-packages (from keras>=2.2.0->deepface) (1.0.8)\n",
      "Requirement already satisfied: pyyaml in /usr/local/lib/python3.6/dist-packages (from keras>=2.2.0->deepface) (3.13)\n",
      "Requirement already satisfied: six>=1.9.0 in /usr/local/lib/python3.6/dist-packages (from keras>=2.2.0->deepface) (1.12.0)\n",
      "Requirement already satisfied: h5py in /usr/local/lib/python3.6/dist-packages (from keras>=2.2.0->deepface) (2.10.0)\n",
      "Requirement already satisfied: scipy>=0.14 in /usr/local/lib/python3.6/dist-packages (from keras>=2.2.0->deepface) (1.4.1)\n",
      "Requirement already satisfied: filelock in /usr/local/lib/python3.6/dist-packages (from gdown>=3.10.1->deepface) (3.0.12)\n",
      "Requirement already satisfied: requests[socks] in /usr/local/lib/python3.6/dist-packages (from gdown>=3.10.1->deepface) (2.23.0)\n",
      "Requirement already satisfied: itsdangerous>=0.24 in /usr/local/lib/python3.6/dist-packages (from Flask>=1.1.2->deepface) (1.1.0)\n",
      "Requirement already satisfied: Werkzeug>=0.15 in /usr/local/lib/python3.6/dist-packages (from Flask>=1.1.2->deepface) (1.0.1)\n",
      "Requirement already satisfied: Jinja2>=2.10.1 in /usr/local/lib/python3.6/dist-packages (from Flask>=1.1.2->deepface) (2.11.2)\n",
      "Requirement already satisfied: click>=5.1 in /usr/local/lib/python3.6/dist-packages (from Flask>=1.1.2->deepface) (7.1.2)\n",
      "Requirement already satisfied: absl-py>=0.7.0 in /usr/local/lib/python3.6/dist-packages (from tensorflow>=1.9.0->deepface) (0.9.0)\n",
      "Requirement already satisfied: astunparse==1.6.3 in /usr/local/lib/python3.6/dist-packages (from tensorflow>=1.9.0->deepface) (1.6.3)\n",
      "Requirement already satisfied: gast==0.3.3 in /usr/local/lib/python3.6/dist-packages (from tensorflow>=1.9.0->deepface) (0.3.3)\n",
      "Requirement already satisfied: tensorflow-estimator<2.3.0,>=2.2.0 in /usr/local/lib/python3.6/dist-packages (from tensorflow>=1.9.0->deepface) (2.2.0)\n",
      "Requirement already satisfied: termcolor>=1.1.0 in /usr/local/lib/python3.6/dist-packages (from tensorflow>=1.9.0->deepface) (1.1.0)\n",
      "Requirement already satisfied: wheel>=0.26; python_version >= \"3\" in /usr/local/lib/python3.6/dist-packages (from tensorflow>=1.9.0->deepface) (0.34.2)\n",
      "Requirement already satisfied: opt-einsum>=2.3.2 in /usr/local/lib/python3.6/dist-packages (from tensorflow>=1.9.0->deepface) (3.2.1)\n",
      "Requirement already satisfied: tensorboard<2.3.0,>=2.2.0 in /usr/local/lib/python3.6/dist-packages (from tensorflow>=1.9.0->deepface) (2.2.2)\n",
      "Requirement already satisfied: grpcio>=1.8.6 in /usr/local/lib/python3.6/dist-packages (from tensorflow>=1.9.0->deepface) (1.29.0)\n",
      "Requirement already satisfied: google-pasta>=0.1.8 in /usr/local/lib/python3.6/dist-packages (from tensorflow>=1.9.0->deepface) (0.2.0)\n",
      "Requirement already satisfied: protobuf>=3.8.0 in /usr/local/lib/python3.6/dist-packages (from tensorflow>=1.9.0->deepface) (3.10.0)\n",
      "Requirement already satisfied: wrapt>=1.11.1 in /usr/local/lib/python3.6/dist-packages (from tensorflow>=1.9.0->deepface) (1.12.1)\n",
      "Requirement already satisfied: chardet<4,>=3.0.2 in /usr/local/lib/python3.6/dist-packages (from requests[socks]->gdown>=3.10.1->deepface) (3.0.4)\n",
      "Requirement already satisfied: urllib3!=1.25.0,!=1.25.1,<1.26,>=1.21.1 in /usr/local/lib/python3.6/dist-packages (from requests[socks]->gdown>=3.10.1->deepface) (1.24.3)\n",
      "Requirement already satisfied: certifi>=2017.4.17 in /usr/local/lib/python3.6/dist-packages (from requests[socks]->gdown>=3.10.1->deepface) (2020.4.5.2)\n",
      "Requirement already satisfied: idna<3,>=2.5 in /usr/local/lib/python3.6/dist-packages (from requests[socks]->gdown>=3.10.1->deepface) (2.9)\n",
      "Requirement already satisfied: PySocks!=1.5.7,>=1.5.6; extra == \"socks\" in /usr/local/lib/python3.6/dist-packages (from requests[socks]->gdown>=3.10.1->deepface) (1.7.1)\n",
      "Requirement already satisfied: MarkupSafe>=0.23 in /usr/local/lib/python3.6/dist-packages (from Jinja2>=2.10.1->Flask>=1.1.2->deepface) (1.1.1)\n",
      "Requirement already satisfied: markdown>=2.6.8 in /usr/local/lib/python3.6/dist-packages (from tensorboard<2.3.0,>=2.2.0->tensorflow>=1.9.0->deepface) (3.2.2)\n",
      "Requirement already satisfied: google-auth<2,>=1.6.3 in /usr/local/lib/python3.6/dist-packages (from tensorboard<2.3.0,>=2.2.0->tensorflow>=1.9.0->deepface) (1.17.2)\n",
      "Requirement already satisfied: setuptools>=41.0.0 in /usr/local/lib/python3.6/dist-packages (from tensorboard<2.3.0,>=2.2.0->tensorflow>=1.9.0->deepface) (47.3.1)\n",
      "Requirement already satisfied: tensorboard-plugin-wit>=1.6.0 in /usr/local/lib/python3.6/dist-packages (from tensorboard<2.3.0,>=2.2.0->tensorflow>=1.9.0->deepface) (1.6.0.post3)\n",
      "Requirement already satisfied: google-auth-oauthlib<0.5,>=0.4.1 in /usr/local/lib/python3.6/dist-packages (from tensorboard<2.3.0,>=2.2.0->tensorflow>=1.9.0->deepface) (0.4.1)\n",
      "Requirement already satisfied: importlib-metadata; python_version < \"3.8\" in /usr/local/lib/python3.6/dist-packages (from markdown>=2.6.8->tensorboard<2.3.0,>=2.2.0->tensorflow>=1.9.0->deepface) (1.6.1)\n",
      "Requirement already satisfied: pyasn1-modules>=0.2.1 in /usr/local/lib/python3.6/dist-packages (from google-auth<2,>=1.6.3->tensorboard<2.3.0,>=2.2.0->tensorflow>=1.9.0->deepface) (0.2.8)\n",
      "Requirement already satisfied: rsa<5,>=3.1.4; python_version >= \"3\" in /usr/local/lib/python3.6/dist-packages (from google-auth<2,>=1.6.3->tensorboard<2.3.0,>=2.2.0->tensorflow>=1.9.0->deepface) (4.6)\n",
      "Requirement already satisfied: cachetools<5.0,>=2.0.0 in /usr/local/lib/python3.6/dist-packages (from google-auth<2,>=1.6.3->tensorboard<2.3.0,>=2.2.0->tensorflow>=1.9.0->deepface) (4.1.0)\n",
      "Requirement already satisfied: requests-oauthlib>=0.7.0 in /usr/local/lib/python3.6/dist-packages (from google-auth-oauthlib<0.5,>=0.4.1->tensorboard<2.3.0,>=2.2.0->tensorflow>=1.9.0->deepface) (1.3.0)\n",
      "Requirement already satisfied: zipp>=0.5 in /usr/local/lib/python3.6/dist-packages (from importlib-metadata; python_version < \"3.8\"->markdown>=2.6.8->tensorboard<2.3.0,>=2.2.0->tensorflow>=1.9.0->deepface) (3.1.0)\n",
      "Requirement already satisfied: pyasn1<0.5.0,>=0.4.6 in /usr/local/lib/python3.6/dist-packages (from pyasn1-modules>=0.2.1->google-auth<2,>=1.6.3->tensorboard<2.3.0,>=2.2.0->tensorflow>=1.9.0->deepface) (0.4.8)\n",
      "Requirement already satisfied: oauthlib>=3.0.0 in /usr/local/lib/python3.6/dist-packages (from requests-oauthlib>=0.7.0->google-auth-oauthlib<0.5,>=0.4.1->tensorboard<2.3.0,>=2.2.0->tensorflow>=1.9.0->deepface) (3.1.0)\n",
      "Building wheels for collected packages: gdown\n",
      "  Building wheel for gdown (PEP 517) ... \u001b[?25l\u001b[?25hdone\n",
      "  Created wheel for gdown: filename=gdown-3.11.1-cp36-none-any.whl size=9656 sha256=8e62b5c3c88f7aed093606f093bd7cf51f7815acde17b955c821d2912f909bb1\n",
      "  Stored in directory: /root/.cache/pip/wheels/32/8e/8d/0fec7d933759a0880dc34be487e1d92c51ba8fdf4e9f265ff7\n",
      "Successfully built gdown\n",
      "Installing collected packages: gdown, deepface\n",
      "  Found existing installation: gdown 3.6.4\n",
      "    Uninstalling gdown-3.6.4:\n",
      "      Successfully uninstalled gdown-3.6.4\n",
      "Successfully installed deepface-0.0.31 gdown-3.11.1\n"
     ]
    }
   ],
   "source": [
    "!pip install faiss-gpu\n",
    "!pip install deepface"
   ]
  },
  {
   "cell_type": "markdown",
   "metadata": {
    "colab_type": "text",
    "id": "RR2hKGwCnkFR"
   },
   "source": [
    "# Importing Libraries"
   ]
  },
  {
   "cell_type": "code",
   "execution_count": 12,
   "metadata": {
    "colab": {},
    "colab_type": "code",
    "executionInfo": {
     "elapsed": 1620,
     "status": "ok",
     "timestamp": 1592995833584,
     "user": {
      "displayName": "VISHAL SHIVAKUMAR KANAKAMAMIDI",
      "photoUrl": "",
      "userId": "13859938372708932231"
     },
     "user_tz": -330
    },
    "id": "kpw-tTYBZnHy"
   },
   "outputs": [],
   "source": [
    "from deepface import DeepFace\n",
    "from deepface.basemodels import Facenet,FbDeepFace,VGGFace,OpenFace\n",
    "# from deepface.basemodels import DeepFace\n",
    "from deepface.commons import functions, realtime, distance as dst\n",
    "import pandas as pd\n",
    "import numpy as np\n",
    "import faiss\n",
    "from faiss import *\n",
    "import os\n",
    "import timeit\n",
    "import time"
   ]
  },
  {
   "cell_type": "markdown",
   "metadata": {
    "colab_type": "text",
    "id": "xUxYJidVnqr-"
   },
   "source": [
    "# Configuration for model and Similarity Metric"
   ]
  },
  {
   "cell_type": "code",
   "execution_count": 64,
   "metadata": {
    "colab": {},
    "colab_type": "code",
    "executionInfo": {
     "elapsed": 7741,
     "status": "ok",
     "timestamp": 1592999310227,
     "user": {
      "displayName": "VISHAL SHIVAKUMAR KANAKAMAMIDI",
      "photoUrl": "",
      "userId": "13859938372708932231"
     },
     "user_tz": -330
    },
    "id": "JIlYyVfOOhEQ"
   },
   "outputs": [],
   "source": [
    "model = Facenet # Or FbDeepFace Or VGGFace Or OpenFace\n",
    "if(model==Facenet):\n",
    "  model = Facenet.loadModel()\n",
    "  dim = 128\n",
    "  ip_shape = 160\n",
    "if(model==FbDeepFace):\n",
    "  model = FbDeepFace.loadModel()\n",
    "  dim = 4096\n",
    "  ip_shape = 152\n",
    "if(model==VGGFace):\n",
    "  model = VGGFace.loadModel()\n",
    "  dim = 2622\n",
    "  ip_shape = 224\n",
    "if(model==OpenFace):\n",
    "  model = OpenFace.loadModel()\n",
    "  dim = 128\n",
    "  ip_shape = 96\n",
    "\n",
    "Similarity_Metric = 1 # 0 for L2 distance Similarity and 1 for Cosine Similarity\n",
    "# source - https://github.com/facebookresearch/faiss/wiki/Faiss-indexes"
   ]
  },
  {
   "cell_type": "markdown",
   "metadata": {
    "colab_type": "text",
    "id": "ea5A03cUn0AL"
   },
   "source": [
    "# Inference"
   ]
  },
  {
   "cell_type": "code",
   "execution_count": 61,
   "metadata": {
    "colab": {},
    "colab_type": "code",
    "executionInfo": {
     "elapsed": 1079,
     "status": "ok",
     "timestamp": 1592999276087,
     "user": {
      "displayName": "VISHAL SHIVAKUMAR KANAKAMAMIDI",
      "photoUrl": "",
      "userId": "13859938372708932231"
     },
     "user_tz": -330
    },
    "id": "BUSkl5q6j8b_"
   },
   "outputs": [],
   "source": [
    "def get_face_encodings(file_name,model):\n",
    "    img1 = functions.detectFace(file_name,(ip_shape, ip_shape))\n",
    "    start_time = time.time()\n",
    "    img1_representation = model.predict(img1)[0,:]\n",
    "    print(\"--- %s seconds ---\" % (time.time() - start_time))\n",
    "    # print(\"Done\")\n",
    "    return img1_representation\n",
    "\n",
    "def register_faces_in_dataset(faces_dataset,model):\n",
    "  images=os.listdir(faces_dataset)\n",
    "  f = open(\"faces.csv\",\"w\")\n",
    "  first_row = str()\n",
    "  first_row = first_row + \"id\"\n",
    "  for i in range(1,dim+1):\n",
    "    first_row = first_row + \",\" + str(i)\n",
    "  first_row = first_row + \"\\n\"\n",
    "  f.write(first_row)\n",
    "  for image in images:\n",
    "    # print(image)\n",
    "    encoding = get_face_encodings(faces_dataset+\"//\"+image,model)\n",
    "    string = str()\n",
    "\n",
    "    name = image.split(\".\")\n",
    "    name = name[0]\n",
    "    string = string + name\n",
    "    for i in encoding:\n",
    "      string = string + \",\" + str(i)\n",
    "    string = string+\"\\n\"\n",
    "    # print(string)\n",
    "    f.write(string)\n",
    "  f.close()\n",
    "\n",
    "def getting_id_index(faces_file):     # for getting faces identities and corresponding encodings in numpy format for matching.\n",
    "  df = pd.read_csv(faces_file)\n",
    "  face_identities = []\n",
    "  if(Similarity_Metric==0):\n",
    "    face_index = faiss.IndexFlatL2(dim)\n",
    "  if(Similarity_Metric==1):\n",
    "    face_index = faiss.IndexFlatIP(dim)\n",
    "  print(face_index.is_trained)\n",
    "\n",
    "  for _, row in df.iterrows():\n",
    "      identity = row[\"id\"]\n",
    "      # print(row.iloc[1:dim+1])\n",
    "      embedding = row.iloc[1:dim+1].to_numpy().astype('float32')\n",
    "      embedding = np.ascontiguousarray(embedding.reshape(1, dim))\n",
    "      # print(embedding)\n",
    "      # embedding = embedding[0]\n",
    "      if(Similarity_Metric==1):\n",
    "        normalize_L2(embedding)\n",
    "      # print(embedding)\n",
    "\n",
    "      face_index.add(embedding)\n",
    "      face_identities.append(identity)\n",
    "  print(face_identities)\n",
    "  return face_identities, face_index\n",
    "\n",
    "def find_face_name(image_name,model,face_index,face_identities): # for matching\n",
    "  encoding = get_face_encodings(image_name,model)\n",
    "  # print(encoding)\n",
    "  encoding = np.reshape(encoding, (1, dim))\n",
    "  if(Similarity_Metric==1):\n",
    "    normalize_L2(encoding)\n",
    "  distances, indicies = face_index.search(encoding, 1)\n",
    "  print(distances)\n",
    "  return(face_identities[indicies[0][0]])\n"
   ]
  },
  {
   "cell_type": "code",
   "execution_count": 62,
   "metadata": {
    "colab": {
     "base_uri": "https://localhost:8080/",
     "height": 118
    },
    "colab_type": "code",
    "executionInfo": {
     "elapsed": 5989,
     "status": "ok",
     "timestamp": 1592999282928,
     "user": {
      "displayName": "VISHAL SHIVAKUMAR KANAKAMAMIDI",
      "photoUrl": "",
      "userId": "13859938372708932231"
     },
     "user_tz": -330
    },
    "id": "w34_tf54gVTH",
    "outputId": "be5e6e47-fe1e-431a-abc0-206635df35cc"
   },
   "outputs": [
    {
     "name": "stdout",
     "output_type": "stream",
     "text": [
      "--- 4.411850214004517 seconds ---\n",
      "--- 0.03307819366455078 seconds ---\n",
      "--- 0.033742427825927734 seconds ---\n",
      "--- 0.0340878963470459 seconds ---\n",
      "True\n",
      "['Hrithik', 'Robert-Downey-Jr', 'Shahrukh-khan', 'Chris']\n"
     ]
    }
   ],
   "source": [
    "register_faces_in_dataset(\"Faces-Dataset\",model)\n",
    "face_identities, face_index = getting_id_index(\"faces.csv\")"
   ]
  },
  {
   "cell_type": "code",
   "execution_count": 63,
   "metadata": {
    "colab": {
     "base_uri": "https://localhost:8080/",
     "height": 67
    },
    "colab_type": "code",
    "executionInfo": {
     "elapsed": 1206,
     "status": "ok",
     "timestamp": 1592999286031,
     "user": {
      "displayName": "VISHAL SHIVAKUMAR KANAKAMAMIDI",
      "photoUrl": "",
      "userId": "13859938372708932231"
     },
     "user_tz": -330
    },
    "id": "HumeZYH0l05e",
    "outputId": "d85a2cc9-e5d4-4651-d1fb-8f60b80d09e0"
   },
   "outputs": [
    {
     "name": "stdout",
     "output_type": "stream",
     "text": [
      "--- 0.037253379821777344 seconds ---\n",
      "[[0.8118255]]\n",
      "Robert-Downey-Jr\n"
     ]
    }
   ],
   "source": [
    "face_name = find_face_name(\"face3.jpg\",model,face_index,face_identities) \n",
    "print(face_name)"
   ]
  },
  {
   "cell_type": "code",
   "execution_count": null,
   "metadata": {
    "colab": {},
    "colab_type": "code",
    "id": "s1Ew88AG8cFO"
   },
   "outputs": [],
   "source": []
  }
 ],
 "metadata": {
  "accelerator": "GPU",
  "colab": {
   "authorship_tag": "ABX9TyMRbJ0dB7Jm23h323Jyvzd4",
   "collapsed_sections": [],
   "name": "Large-Scale-Face-Recognition.ipynb",
   "provenance": [],
   "toc_visible": true
  },
  "kernelspec": {
   "display_name": "Python 3",
   "language": "python",
   "name": "python3"
  },
  "language_info": {
   "codemirror_mode": {
    "name": "ipython",
    "version": 3
   },
   "file_extension": ".py",
   "mimetype": "text/x-python",
   "name": "python",
   "nbconvert_exporter": "python",
   "pygments_lexer": "ipython3",
   "version": "3.6.9"
  }
 },
 "nbformat": 4,
 "nbformat_minor": 1
}
